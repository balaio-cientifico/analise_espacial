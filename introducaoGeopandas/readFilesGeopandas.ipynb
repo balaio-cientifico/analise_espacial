{
 "cells": [
  {
   "cell_type": "code",
   "execution_count": 1,
   "metadata": {},
   "outputs": [],
   "source": [
    "import geopandas as gpd"
   ]
  },
  {
   "cell_type": "code",
   "execution_count": 2,
   "metadata": {},
   "outputs": [],
   "source": [
    "path = r'H:\\\\BalaioCientifico\\\\area_imovel.parquet'"
   ]
  },
  {
   "cell_type": "code",
   "execution_count": 9,
   "metadata": {},
   "outputs": [],
   "source": [
    "# Exemplo 1: Filtrar apenas imóveis do Acre (AC)\n",
    "# Estrutura: [(coluna, operador, valor)]\n",
    "filtro_ac = [('cod_estado', '==', 'AC')]\n",
    "gdf = gpd.read_parquet(path, filters=filtro_ac)\n",
    "\n",
    "# Exemplo 2: Filtrar imóveis de múltiplos estados (AC ou PA)\n",
    "filtro_estados = [[('cod_estado', 'in', ['AC', 'PA'])]]\n",
    "# OU usando OR lógico entre condições\n",
    "filtro_estados_or = [[('cod_estado', '==', 'AC')], [('cod_estado', '==', 'PA')]]\n",
    "gdf = gpd.read_parquet(path, filters=filtro_estados)"
   ]
  },
  {
   "cell_type": "code",
   "execution_count": null,
   "metadata": {},
   "outputs": [],
   "source": [
    "# Exemplo 3: Filtrar imóveis com status \"AT\" (Ativo)\n",
    "filtro_ativos = [('ind_status', '==', 'AT')]\n",
    "gdf = gpd.read_parquet(path, filters=filtro_ativos)\n",
    "\n",
    "# Exemplo 4: Filtrar imóveis que NÃO estão Ativos\n",
    "filtro_nao_cancelados = [('ind_status', '!=', 'AT')]\n",
    "gdf = gpd.read_parquet(path, filters=filtro_nao_cancelados)"
   ]
  },
  {
   "cell_type": "code",
   "execution_count": null,
   "metadata": {},
   "outputs": [],
   "source": [
    "# Exemplo 5: Filtrar imóveis com área maior que 1000 hectares\n",
    "filtro_grandes = [('num_area', '>', 1000)]\n",
    "gdf = gpd.read_parquet(path, filters=filtro_grandes)\n",
    "\n",
    "# Exemplo 6: Filtrar imóveis entre 100 e 500 hectares (AND lógico)\n",
    "filtro_medio_porte = [[('num_area', '>=', 100), ('num_area', '<=', 500)]]\n",
    "gdf = gpd.read_parquet(path, filters=filtro_medio_porte)"
   ]
  },
  {
   "cell_type": "code",
   "execution_count": null,
   "metadata": {},
   "outputs": [],
   "source": [
    "# Exemplo 7: Imóveis ativos (AT) OU em análise no Acre\n",
    "# [[condição1, condição2]] = condição1 AND condição2\n",
    "# [[condição1], [condição2]] = condição1 OR condição2\n",
    "filtro_complexo = [\n",
    "    [('ind_status', '==', 'AT'), ('cod_estado', '==', 'AC')],  # Ativos no Acre\n",
    "    [('des_condic', '==', 'Aguardando analise')]               # OU aguardando análise (qualquer estado)\n",
    "]\n",
    "gdf = gpd.read_parquet(path, filters=filtro_complexo)"
   ]
  },
  {
   "cell_type": "code",
   "execution_count": null,
   "metadata": {},
   "outputs": [],
   "source": [
    "# Exemplo 8: Imóveis indígenas (IRU) com área maior que 1000 hectares\n",
    "filtro_indigenas_grandes = [[('ind_tipo', '==', 'IRU'), ('num_area', '>', 1000)]]\n",
    "gdf = gpd.read_parquet(path, filters=filtro_indigenas_grandes)\n",
    "\n",
    "# Exemplo 9: Imóveis do município de Xapuri OU Sena Madureira\n",
    "filtro_municipios = [\n",
    "    [('municipio', '==', 'Xapuri')], \n",
    "    [('municipio', '==', 'Sena Madureira')]\n",
    "]\n",
    "gdf = gpd.read_parquet(path, filters=filtro_municipios)"
   ]
  },
  {
   "cell_type": "code",
   "execution_count": null,
   "metadata": {},
   "outputs": [],
   "source": [
    "# Exemplo 10: Imóveis com mais de 4 módulos fiscais que são ativos\n",
    "filtro_modulos = [[('mod_fiscal', '>', 4), ('ind_status', '==', 'AT')]]\n",
    "gdf = gpd.read_parquet(path, filters=filtro_modulos)"
   ]
  },
  {
   "cell_type": "code",
   "execution_count": null,
   "metadata": {},
   "outputs": [],
   "source": [
    "# Para aplicar filtros em um GeoDataFrame já carregado, use pandas normalmente:\n",
    "gdf_filtrado = gdf[gdf['cod_estado'] == 'AC']\n",
    "gdf_filtrado = gdf[(gdf['num_area'] > 100) & (gdf['ind_status'] == 'AT')]"
   ]
  }
 ],
 "metadata": {
  "kernelspec": {
   "display_name": "Python 3",
   "language": "python",
   "name": "python3"
  },
  "language_info": {
   "codemirror_mode": {
    "name": "ipython",
    "version": 3
   },
   "file_extension": ".py",
   "mimetype": "text/x-python",
   "name": "python",
   "nbconvert_exporter": "python",
   "pygments_lexer": "ipython3",
   "version": "3.12.9"
  }
 },
 "nbformat": 4,
 "nbformat_minor": 2
}
